{
 "cells": [
  {
   "cell_type": "markdown",
   "metadata": {},
   "source": [
    "# Generate a dataset for instruction tuning\n",
    "\n",
    "This notebook will guide you through the process of generating a dataset for instruction tuning. We'll use the `distilabel` package to generate a dataset for instruction tuning.\n",
    "\n",
    "So let's dig in to some instruction tuning datasets.\n",
    "\n",
    "<div style='background-color: lightblue; padding: 10px; border-radius: 5px; margin-bottom: 20px; color:black'>\n",
    "    <h2 style='margin: 0;color:blue'>Exercise: Generate a dataset for instruction tuning</h2>\n",
    "    <p>Now that you've seen how to generate a dataset for instruction tuning, try generating a dataset for instruction tuning.</p>\n",
    "    <p><b>Difficulty Levels</b></p>\n",
    "    <p>🐢 Generate an instruction tuning dataset</p>\n",
    "    <p>🐕 Generate a dataset for instruction tuning with seed data</p>\n",
    "    <p>🦁 Generate a dataset for instruction tuning with seed data and with instruction evolution</p>\n",
    "</div>"
   ]
  },
  {
   "cell_type": "code",
   "execution_count": 4,
   "metadata": {},
   "outputs": [
    {
     "name": "stdout",
     "output_type": "stream",
     "text": [
      "XXSg559\n",
      "Authenticated through private endpoint: https://hf-mirror.com\n"
     ]
    }
   ],
   "source": [
    "!huggingface-cli whoami\n"
   ]
  },
  {
   "cell_type": "code",
   "execution_count": 2,
   "metadata": {},
   "outputs": [
    {
     "data": {
      "application/vnd.jupyter.widget-view+json": {
       "model_id": "98608b0b17864083aba7ec5064f71747",
       "version_major": 2,
       "version_minor": 0
      },
      "text/plain": [
       "VBox(children=(HTML(value='<center> <img\\nsrc=https://huggingface.co/front/assets/huggingface_logo-noborder.sv…"
      ]
     },
     "metadata": {},
     "output_type": "display_data"
    }
   ],
   "source": [
    "from huggingface_hub import login\n",
    "login()"
   ]
  },
  {
   "cell_type": "markdown",
   "metadata": {
    "vscode": {
     "languageId": "plaintext"
    }
   },
   "source": [
    "## Install dependencies\n",
    "\n",
    "Instead of transformers, you can also install `vllm` or `hf-inference-endpoints`."
   ]
  },
  {
   "cell_type": "code",
   "execution_count": null,
   "metadata": {},
   "outputs": [],
   "source": [
    "!pip install \"distilabel[hf-transformers,outlines,instructor]\""
   ]
  },
  {
   "cell_type": "markdown",
   "metadata": {},
   "source": [
    "## Start synthesizing\n",
    "\n",
    "As we've seen in the previous course content, we can create a distilabel pipelines for instruction dataset generation. The bare minimum pipline is already provided. Make sure to scale up this pipeline to generate a large dataset for instruction tuning. Swap out models, model providers and generation arguments to see how they affect the quality of the dataset. Experiment small, scale up later.\n",
    "\n",
    "Check out the [distilabel components gallery](https://distilabel.argilla.io/latest/components-gallery/) for information about the processing classes and how to use them. \n",
    "\n",
    "An example of loading data from the Hub instead of dictionaries is provided below.\n",
    "\n",
    "```python\n",
    "from datasets import load_dataset\n",
    "\n",
    "with Pipeline(...) as pipeline:\n",
    "    ...\n",
    "\n",
    "if __name__ == \"__main__:\n",
    "    dataset = load_dataset(\"my-dataset\", split=\"train\")\n",
    "    distiset = pipeline.run(dataset=dataset)\n",
    "```\n",
    "\n",
    "Don't forget to push your dataset to the Hub after running the pipeline!"
   ]
  },
  {
   "cell_type": "code",
   "execution_count": 2,
   "metadata": {},
   "outputs": [
    {
     "data": {
      "text/html": [
       "<pre style=\"white-space:pre;overflow-x:auto;line-height:normal;font-family:Menlo,'DejaVu Sans Mono',consolas,'Courier New',monospace\"><span style=\"color: #7fbfbf; text-decoration-color: #7fbfbf\">[01/24/25 14:54:29] </span><span style=\"color: #000080; text-decoration-color: #000080\">INFO    </span> <span style=\"font-weight: bold\">[</span><span style=\"color: #008000; text-decoration-color: #008000\">'distilabel.pipeline'</span><span style=\"font-weight: bold\">]</span> 📝 Pipeline data will be written to               <a href=\"file://c:\\Users\\xxSg\\anaconda3\\envs\\pytorch311\\Lib\\site-packages\\distilabel\\pipeline\\base.py\" target=\"_blank\"><span style=\"color: #7f7f7f; text-decoration-color: #7f7f7f\">base.py</span></a><span style=\"color: #7f7f7f; text-decoration-color: #7f7f7f\">:</span><a href=\"file://c:\\Users\\xxSg\\anaconda3\\envs\\pytorch311\\Lib\\site-packages\\distilabel\\pipeline\\base.py#1015\" target=\"_blank\"><span style=\"color: #7f7f7f; text-decoration-color: #7f7f7f\">1015</span></a>\n",
       "<span style=\"color: #7fbfbf; text-decoration-color: #7fbfbf\">                    </span>         <span style=\"color: #008000; text-decoration-color: #008000\">'C:\\Users\\xxSg\\.cache\\distilabel\\pipelines\\pipeline_load_data_from_dicts_</span> <span style=\"color: #7f7f7f; text-decoration-color: #7f7f7f\">            </span>\n",
       "<span style=\"color: #7fbfbf; text-decoration-color: #7fbfbf\">                    </span>         <span style=\"color: #008000; text-decoration-color: #008000\">0_text_generation_0_text_generation_1\\c01ebfb0c402b5259a883a99a288ac77e43</span> <span style=\"color: #7f7f7f; text-decoration-color: #7f7f7f\">            </span>\n",
       "<span style=\"color: #7fbfbf; text-decoration-color: #7fbfbf\">                    </span>         <span style=\"color: #008000; text-decoration-color: #008000\">5bd20\\executions\\ba93fee5474d2e343a10a1c4b6e96bcada7c66a6\\data\\steps_outp</span> <span style=\"color: #7f7f7f; text-decoration-color: #7f7f7f\">            </span>\n",
       "<span style=\"color: #7fbfbf; text-decoration-color: #7fbfbf\">                    </span>         <span style=\"color: #008000; text-decoration-color: #008000\">uts'</span>                                                                      <span style=\"color: #7f7f7f; text-decoration-color: #7f7f7f\">            </span>\n",
       "</pre>\n"
      ],
      "text/plain": [
       "\u001b[2;36m[01/24/25 14:54:29]\u001b[0m\u001b[2;36m \u001b[0m\u001b[34mINFO    \u001b[0m \u001b[1m[\u001b[0m\u001b[32m'distilabel.pipeline'\u001b[0m\u001b[1m]\u001b[0m 📝 Pipeline data will be written to               \u001b]8;id=862937;file://c:\\Users\\xxSg\\anaconda3\\envs\\pytorch311\\Lib\\site-packages\\distilabel\\pipeline\\base.py\u001b\\\u001b[2mbase.py\u001b[0m\u001b]8;;\u001b\\\u001b[2m:\u001b[0m\u001b]8;id=541472;file://c:\\Users\\xxSg\\anaconda3\\envs\\pytorch311\\Lib\\site-packages\\distilabel\\pipeline\\base.py#1015\u001b\\\u001b[2m1015\u001b[0m\u001b]8;;\u001b\\\n",
       "\u001b[2;36m                    \u001b[0m         \u001b[32m'C:\\Users\\xxSg\\.cache\\distilabel\\pipelines\\pipeline_load_data_from_dicts_\u001b[0m \u001b[2m            \u001b[0m\n",
       "\u001b[2;36m                    \u001b[0m         \u001b[32m0_text_generation_0_text_generation_1\\c01ebfb0c402b5259a883a99a288ac77e43\u001b[0m \u001b[2m            \u001b[0m\n",
       "\u001b[2;36m                    \u001b[0m         \u001b[32m5bd20\\executions\\ba93fee5474d2e343a10a1c4b6e96bcada7c66a6\\data\\steps_outp\u001b[0m \u001b[2m            \u001b[0m\n",
       "\u001b[2;36m                    \u001b[0m         \u001b[32muts'\u001b[0m                                                                      \u001b[2m            \u001b[0m\n"
      ]
     },
     "metadata": {},
     "output_type": "display_data"
    },
    {
     "data": {
      "text/html": [
       "<pre style=\"white-space:pre;overflow-x:auto;line-height:normal;font-family:Menlo,'DejaVu Sans Mono',consolas,'Courier New',monospace\"><span style=\"color: #7fbfbf; text-decoration-color: #7fbfbf\">                    </span><span style=\"color: #000080; text-decoration-color: #000080\">INFO    </span> <span style=\"font-weight: bold\">[</span><span style=\"color: #008000; text-decoration-color: #008000\">'distilabel.pipeline'</span><span style=\"font-weight: bold\">]</span> ⌛ The steps of the pipeline will be loaded in    <a href=\"file://c:\\Users\\xxSg\\anaconda3\\envs\\pytorch311\\Lib\\site-packages\\distilabel\\pipeline\\base.py\" target=\"_blank\"><span style=\"color: #7f7f7f; text-decoration-color: #7f7f7f\">base.py</span></a><span style=\"color: #7f7f7f; text-decoration-color: #7f7f7f\">:</span><a href=\"file://c:\\Users\\xxSg\\anaconda3\\envs\\pytorch311\\Lib\\site-packages\\distilabel\\pipeline\\base.py#1046\" target=\"_blank\"><span style=\"color: #7f7f7f; text-decoration-color: #7f7f7f\">1046</span></a>\n",
       "<span style=\"color: #7fbfbf; text-decoration-color: #7fbfbf\">                    </span>         stages:                                                                   <span style=\"color: #7f7f7f; text-decoration-color: #7f7f7f\">            </span>\n",
       "<span style=\"color: #7fbfbf; text-decoration-color: #7fbfbf\">                    </span>          * Legend: 🚰 GeneratorStep 🌐 GlobalStep 🔄 Step                         <span style=\"color: #7f7f7f; text-decoration-color: #7f7f7f\">            </span>\n",
       "<span style=\"color: #7fbfbf; text-decoration-color: #7fbfbf\">                    </span>          * Stage <span style=\"color: #008080; text-decoration-color: #008080; font-weight: bold\">0</span>:                                                               <span style=\"color: #7f7f7f; text-decoration-color: #7f7f7f\">            </span>\n",
       "<span style=\"color: #7fbfbf; text-decoration-color: #7fbfbf\">                    </span>            - 🚰 <span style=\"color: #008000; text-decoration-color: #008000\">'load_data_from_dicts_0'</span>                                          <span style=\"color: #7f7f7f; text-decoration-color: #7f7f7f\">            </span>\n",
       "<span style=\"color: #7fbfbf; text-decoration-color: #7fbfbf\">                    </span>            - 🔄 <span style=\"color: #008000; text-decoration-color: #008000\">'text_generation_0'</span>                                               <span style=\"color: #7f7f7f; text-decoration-color: #7f7f7f\">            </span>\n",
       "<span style=\"color: #7fbfbf; text-decoration-color: #7fbfbf\">                    </span>            - 🔄 <span style=\"color: #008000; text-decoration-color: #008000\">'text_generation_1'</span>                                               <span style=\"color: #7f7f7f; text-decoration-color: #7f7f7f\">            </span>\n",
       "</pre>\n"
      ],
      "text/plain": [
       "\u001b[2;36m                   \u001b[0m\u001b[2;36m \u001b[0m\u001b[34mINFO    \u001b[0m \u001b[1m[\u001b[0m\u001b[32m'distilabel.pipeline'\u001b[0m\u001b[1m]\u001b[0m ⌛ The steps of the pipeline will be loaded in    \u001b]8;id=821059;file://c:\\Users\\xxSg\\anaconda3\\envs\\pytorch311\\Lib\\site-packages\\distilabel\\pipeline\\base.py\u001b\\\u001b[2mbase.py\u001b[0m\u001b]8;;\u001b\\\u001b[2m:\u001b[0m\u001b]8;id=862403;file://c:\\Users\\xxSg\\anaconda3\\envs\\pytorch311\\Lib\\site-packages\\distilabel\\pipeline\\base.py#1046\u001b\\\u001b[2m1046\u001b[0m\u001b]8;;\u001b\\\n",
       "\u001b[2;36m                    \u001b[0m         stages:                                                                   \u001b[2m            \u001b[0m\n",
       "\u001b[2;36m                    \u001b[0m          * Legend: 🚰 GeneratorStep 🌐 GlobalStep 🔄 Step                         \u001b[2m            \u001b[0m\n",
       "\u001b[2;36m                    \u001b[0m          * Stage \u001b[1;36m0\u001b[0m:                                                               \u001b[2m            \u001b[0m\n",
       "\u001b[2;36m                    \u001b[0m            - 🚰 \u001b[32m'load_data_from_dicts_0'\u001b[0m                                          \u001b[2m            \u001b[0m\n",
       "\u001b[2;36m                    \u001b[0m            - 🔄 \u001b[32m'text_generation_0'\u001b[0m                                               \u001b[2m            \u001b[0m\n",
       "\u001b[2;36m                    \u001b[0m            - 🔄 \u001b[32m'text_generation_1'\u001b[0m                                               \u001b[2m            \u001b[0m\n"
      ]
     },
     "metadata": {},
     "output_type": "display_data"
    },
    {
     "data": {
      "text/html": [
       "<pre style=\"white-space:pre;overflow-x:auto;line-height:normal;font-family:Menlo,'DejaVu Sans Mono',consolas,'Courier New',monospace\"><span style=\"color: #7fbfbf; text-decoration-color: #7fbfbf\">                    </span><span style=\"color: #000080; text-decoration-color: #000080\">INFO    </span> <span style=\"font-weight: bold\">[</span><span style=\"color: #008000; text-decoration-color: #008000\">'distilabel.pipeline'</span><span style=\"font-weight: bold\">]</span> ⏳ Waiting for all the steps of stage <span style=\"color: #008080; text-decoration-color: #008080; font-weight: bold\">0</span> to        <a href=\"file://c:\\Users\\xxSg\\anaconda3\\envs\\pytorch311\\Lib\\site-packages\\distilabel\\pipeline\\base.py\" target=\"_blank\"><span style=\"color: #7f7f7f; text-decoration-color: #7f7f7f\">base.py</span></a><span style=\"color: #7f7f7f; text-decoration-color: #7f7f7f\">:</span><a href=\"file://c:\\Users\\xxSg\\anaconda3\\envs\\pytorch311\\Lib\\site-packages\\distilabel\\pipeline\\base.py#1382\" target=\"_blank\"><span style=\"color: #7f7f7f; text-decoration-color: #7f7f7f\">1382</span></a>\n",
       "<span style=\"color: #7fbfbf; text-decoration-color: #7fbfbf\">                    </span>         load<span style=\"color: #808000; text-decoration-color: #808000\">...</span>                                                                   <span style=\"color: #7f7f7f; text-decoration-color: #7f7f7f\">            </span>\n",
       "</pre>\n"
      ],
      "text/plain": [
       "\u001b[2;36m                   \u001b[0m\u001b[2;36m \u001b[0m\u001b[34mINFO    \u001b[0m \u001b[1m[\u001b[0m\u001b[32m'distilabel.pipeline'\u001b[0m\u001b[1m]\u001b[0m ⏳ Waiting for all the steps of stage \u001b[1;36m0\u001b[0m to        \u001b]8;id=566488;file://c:\\Users\\xxSg\\anaconda3\\envs\\pytorch311\\Lib\\site-packages\\distilabel\\pipeline\\base.py\u001b\\\u001b[2mbase.py\u001b[0m\u001b]8;;\u001b\\\u001b[2m:\u001b[0m\u001b]8;id=536982;file://c:\\Users\\xxSg\\anaconda3\\envs\\pytorch311\\Lib\\site-packages\\distilabel\\pipeline\\base.py#1382\u001b\\\u001b[2m1382\u001b[0m\u001b]8;;\u001b\\\n",
       "\u001b[2;36m                    \u001b[0m         load\u001b[33m...\u001b[0m                                                                   \u001b[2m            \u001b[0m\n"
      ]
     },
     "metadata": {},
     "output_type": "display_data"
    },
    {
     "data": {
      "text/html": [
       "<pre style=\"white-space:pre;overflow-x:auto;line-height:normal;font-family:Menlo,'DejaVu Sans Mono',consolas,'Courier New',monospace\"><span style=\"color: #7fbfbf; text-decoration-color: #7fbfbf\">[01/24/25 14:54:34] </span><span style=\"color: #000080; text-decoration-color: #000080\">INFO    </span> <span style=\"font-weight: bold\">[</span><span style=\"color: #008000; text-decoration-color: #008000\">'distilabel.pipeline'</span><span style=\"font-weight: bold\">]</span> ⏳ Steps from stage <span style=\"color: #008080; text-decoration-color: #008080; font-weight: bold\">0</span> loaded: <span style=\"color: #008080; text-decoration-color: #008080; font-weight: bold\">1</span>/<span style=\"color: #008080; text-decoration-color: #008080; font-weight: bold\">3</span>                 <a href=\"file://c:\\Users\\xxSg\\anaconda3\\envs\\pytorch311\\Lib\\site-packages\\distilabel\\pipeline\\base.py\" target=\"_blank\"><span style=\"color: #7f7f7f; text-decoration-color: #7f7f7f\">base.py</span></a><span style=\"color: #7f7f7f; text-decoration-color: #7f7f7f\">:</span><a href=\"file://c:\\Users\\xxSg\\anaconda3\\envs\\pytorch311\\Lib\\site-packages\\distilabel\\pipeline\\base.py#1418\" target=\"_blank\"><span style=\"color: #7f7f7f; text-decoration-color: #7f7f7f\">1418</span></a>\n",
       "<span style=\"color: #7fbfbf; text-decoration-color: #7fbfbf\">                    </span>          * <span style=\"color: #008000; text-decoration-color: #008000\">'load_data_from_dicts_0'</span> replicas: <span style=\"color: #008080; text-decoration-color: #008080; font-weight: bold\">1</span>/<span style=\"color: #008080; text-decoration-color: #008080; font-weight: bold\">1</span>                                 <span style=\"color: #7f7f7f; text-decoration-color: #7f7f7f\">            </span>\n",
       "<span style=\"color: #7fbfbf; text-decoration-color: #7fbfbf\">                    </span>          * <span style=\"color: #008000; text-decoration-color: #008000\">'text_generation_0'</span> replicas: <span style=\"color: #008080; text-decoration-color: #008080; font-weight: bold\">0</span>/<span style=\"color: #008080; text-decoration-color: #008080; font-weight: bold\">1</span>                                      <span style=\"color: #7f7f7f; text-decoration-color: #7f7f7f\">            </span>\n",
       "<span style=\"color: #7fbfbf; text-decoration-color: #7fbfbf\">                    </span>          * <span style=\"color: #008000; text-decoration-color: #008000\">'text_generation_1'</span> replicas: <span style=\"color: #008080; text-decoration-color: #008080; font-weight: bold\">0</span>/<span style=\"color: #008080; text-decoration-color: #008080; font-weight: bold\">1</span>                                      <span style=\"color: #7f7f7f; text-decoration-color: #7f7f7f\">            </span>\n",
       "</pre>\n"
      ],
      "text/plain": [
       "\u001b[2;36m[01/24/25 14:54:34]\u001b[0m\u001b[2;36m \u001b[0m\u001b[34mINFO    \u001b[0m \u001b[1m[\u001b[0m\u001b[32m'distilabel.pipeline'\u001b[0m\u001b[1m]\u001b[0m ⏳ Steps from stage \u001b[1;36m0\u001b[0m loaded: \u001b[1;36m1\u001b[0m/\u001b[1;36m3\u001b[0m                 \u001b]8;id=957131;file://c:\\Users\\xxSg\\anaconda3\\envs\\pytorch311\\Lib\\site-packages\\distilabel\\pipeline\\base.py\u001b\\\u001b[2mbase.py\u001b[0m\u001b]8;;\u001b\\\u001b[2m:\u001b[0m\u001b]8;id=330571;file://c:\\Users\\xxSg\\anaconda3\\envs\\pytorch311\\Lib\\site-packages\\distilabel\\pipeline\\base.py#1418\u001b\\\u001b[2m1418\u001b[0m\u001b]8;;\u001b\\\n",
       "\u001b[2;36m                    \u001b[0m          * \u001b[32m'load_data_from_dicts_0'\u001b[0m replicas: \u001b[1;36m1\u001b[0m/\u001b[1;36m1\u001b[0m                                 \u001b[2m            \u001b[0m\n",
       "\u001b[2;36m                    \u001b[0m          * \u001b[32m'text_generation_0'\u001b[0m replicas: \u001b[1;36m0\u001b[0m/\u001b[1;36m1\u001b[0m                                      \u001b[2m            \u001b[0m\n",
       "\u001b[2;36m                    \u001b[0m          * \u001b[32m'text_generation_1'\u001b[0m replicas: \u001b[1;36m0\u001b[0m/\u001b[1;36m1\u001b[0m                                      \u001b[2m            \u001b[0m\n"
      ]
     },
     "metadata": {},
     "output_type": "display_data"
    },
    {
     "data": {
      "text/html": [
       "<pre style=\"white-space:pre;overflow-x:auto;line-height:normal;font-family:Menlo,'DejaVu Sans Mono',consolas,'Courier New',monospace\"><span style=\"color: #7fbfbf; text-decoration-color: #7fbfbf\">[01/24/25 14:54:39] </span><span style=\"color: #000080; text-decoration-color: #000080\">INFO    </span> <span style=\"font-weight: bold\">[</span><span style=\"color: #008000; text-decoration-color: #008000\">'distilabel.pipeline'</span><span style=\"font-weight: bold\">]</span> ⏳ Steps from stage <span style=\"color: #008080; text-decoration-color: #008080; font-weight: bold\">0</span> loaded: <span style=\"color: #008080; text-decoration-color: #008080; font-weight: bold\">2</span>/<span style=\"color: #008080; text-decoration-color: #008080; font-weight: bold\">3</span>                 <a href=\"file://c:\\Users\\xxSg\\anaconda3\\envs\\pytorch311\\Lib\\site-packages\\distilabel\\pipeline\\base.py\" target=\"_blank\"><span style=\"color: #7f7f7f; text-decoration-color: #7f7f7f\">base.py</span></a><span style=\"color: #7f7f7f; text-decoration-color: #7f7f7f\">:</span><a href=\"file://c:\\Users\\xxSg\\anaconda3\\envs\\pytorch311\\Lib\\site-packages\\distilabel\\pipeline\\base.py#1418\" target=\"_blank\"><span style=\"color: #7f7f7f; text-decoration-color: #7f7f7f\">1418</span></a>\n",
       "<span style=\"color: #7fbfbf; text-decoration-color: #7fbfbf\">                    </span>          * <span style=\"color: #008000; text-decoration-color: #008000\">'load_data_from_dicts_0'</span> replicas: <span style=\"color: #008080; text-decoration-color: #008080; font-weight: bold\">1</span>/<span style=\"color: #008080; text-decoration-color: #008080; font-weight: bold\">1</span>                                 <span style=\"color: #7f7f7f; text-decoration-color: #7f7f7f\">            </span>\n",
       "<span style=\"color: #7fbfbf; text-decoration-color: #7fbfbf\">                    </span>          * <span style=\"color: #008000; text-decoration-color: #008000\">'text_generation_0'</span> replicas: <span style=\"color: #008080; text-decoration-color: #008080; font-weight: bold\">0</span>/<span style=\"color: #008080; text-decoration-color: #008080; font-weight: bold\">1</span>                                      <span style=\"color: #7f7f7f; text-decoration-color: #7f7f7f\">            </span>\n",
       "<span style=\"color: #7fbfbf; text-decoration-color: #7fbfbf\">                    </span>          * <span style=\"color: #008000; text-decoration-color: #008000\">'text_generation_1'</span> replicas: <span style=\"color: #008080; text-decoration-color: #008080; font-weight: bold\">1</span>/<span style=\"color: #008080; text-decoration-color: #008080; font-weight: bold\">1</span>                                      <span style=\"color: #7f7f7f; text-decoration-color: #7f7f7f\">            </span>\n",
       "</pre>\n"
      ],
      "text/plain": [
       "\u001b[2;36m[01/24/25 14:54:39]\u001b[0m\u001b[2;36m \u001b[0m\u001b[34mINFO    \u001b[0m \u001b[1m[\u001b[0m\u001b[32m'distilabel.pipeline'\u001b[0m\u001b[1m]\u001b[0m ⏳ Steps from stage \u001b[1;36m0\u001b[0m loaded: \u001b[1;36m2\u001b[0m/\u001b[1;36m3\u001b[0m                 \u001b]8;id=600160;file://c:\\Users\\xxSg\\anaconda3\\envs\\pytorch311\\Lib\\site-packages\\distilabel\\pipeline\\base.py\u001b\\\u001b[2mbase.py\u001b[0m\u001b]8;;\u001b\\\u001b[2m:\u001b[0m\u001b]8;id=747159;file://c:\\Users\\xxSg\\anaconda3\\envs\\pytorch311\\Lib\\site-packages\\distilabel\\pipeline\\base.py#1418\u001b\\\u001b[2m1418\u001b[0m\u001b]8;;\u001b\\\n",
       "\u001b[2;36m                    \u001b[0m          * \u001b[32m'load_data_from_dicts_0'\u001b[0m replicas: \u001b[1;36m1\u001b[0m/\u001b[1;36m1\u001b[0m                                 \u001b[2m            \u001b[0m\n",
       "\u001b[2;36m                    \u001b[0m          * \u001b[32m'text_generation_0'\u001b[0m replicas: \u001b[1;36m0\u001b[0m/\u001b[1;36m1\u001b[0m                                      \u001b[2m            \u001b[0m\n",
       "\u001b[2;36m                    \u001b[0m          * \u001b[32m'text_generation_1'\u001b[0m replicas: \u001b[1;36m1\u001b[0m/\u001b[1;36m1\u001b[0m                                      \u001b[2m            \u001b[0m\n"
      ]
     },
     "metadata": {},
     "output_type": "display_data"
    },
    {
     "data": {
      "text/html": [
       "<pre style=\"white-space:pre;overflow-x:auto;line-height:normal;font-family:Menlo,'DejaVu Sans Mono',consolas,'Courier New',monospace\"><span style=\"color: #7fbfbf; text-decoration-color: #7fbfbf\">[01/24/25 14:54:41] </span><span style=\"color: #000080; text-decoration-color: #000080\">INFO    </span> <span style=\"font-weight: bold\">[</span><span style=\"color: #008000; text-decoration-color: #008000\">'distilabel.pipeline'</span><span style=\"font-weight: bold\">]</span> ⏳ Steps from stage <span style=\"color: #008080; text-decoration-color: #008080; font-weight: bold\">0</span> loaded: <span style=\"color: #008080; text-decoration-color: #008080; font-weight: bold\">3</span>/<span style=\"color: #008080; text-decoration-color: #008080; font-weight: bold\">3</span>                 <a href=\"file://c:\\Users\\xxSg\\anaconda3\\envs\\pytorch311\\Lib\\site-packages\\distilabel\\pipeline\\base.py\" target=\"_blank\"><span style=\"color: #7f7f7f; text-decoration-color: #7f7f7f\">base.py</span></a><span style=\"color: #7f7f7f; text-decoration-color: #7f7f7f\">:</span><a href=\"file://c:\\Users\\xxSg\\anaconda3\\envs\\pytorch311\\Lib\\site-packages\\distilabel\\pipeline\\base.py#1418\" target=\"_blank\"><span style=\"color: #7f7f7f; text-decoration-color: #7f7f7f\">1418</span></a>\n",
       "<span style=\"color: #7fbfbf; text-decoration-color: #7fbfbf\">                    </span>          * <span style=\"color: #008000; text-decoration-color: #008000\">'load_data_from_dicts_0'</span> replicas: <span style=\"color: #008080; text-decoration-color: #008080; font-weight: bold\">1</span>/<span style=\"color: #008080; text-decoration-color: #008080; font-weight: bold\">1</span>                                 <span style=\"color: #7f7f7f; text-decoration-color: #7f7f7f\">            </span>\n",
       "<span style=\"color: #7fbfbf; text-decoration-color: #7fbfbf\">                    </span>          * <span style=\"color: #008000; text-decoration-color: #008000\">'text_generation_0'</span> replicas: <span style=\"color: #008080; text-decoration-color: #008080; font-weight: bold\">1</span>/<span style=\"color: #008080; text-decoration-color: #008080; font-weight: bold\">1</span>                                      <span style=\"color: #7f7f7f; text-decoration-color: #7f7f7f\">            </span>\n",
       "<span style=\"color: #7fbfbf; text-decoration-color: #7fbfbf\">                    </span>          * <span style=\"color: #008000; text-decoration-color: #008000\">'text_generation_1'</span> replicas: <span style=\"color: #008080; text-decoration-color: #008080; font-weight: bold\">1</span>/<span style=\"color: #008080; text-decoration-color: #008080; font-weight: bold\">1</span>                                      <span style=\"color: #7f7f7f; text-decoration-color: #7f7f7f\">            </span>\n",
       "</pre>\n"
      ],
      "text/plain": [
       "\u001b[2;36m[01/24/25 14:54:41]\u001b[0m\u001b[2;36m \u001b[0m\u001b[34mINFO    \u001b[0m \u001b[1m[\u001b[0m\u001b[32m'distilabel.pipeline'\u001b[0m\u001b[1m]\u001b[0m ⏳ Steps from stage \u001b[1;36m0\u001b[0m loaded: \u001b[1;36m3\u001b[0m/\u001b[1;36m3\u001b[0m                 \u001b]8;id=794223;file://c:\\Users\\xxSg\\anaconda3\\envs\\pytorch311\\Lib\\site-packages\\distilabel\\pipeline\\base.py\u001b\\\u001b[2mbase.py\u001b[0m\u001b]8;;\u001b\\\u001b[2m:\u001b[0m\u001b]8;id=164615;file://c:\\Users\\xxSg\\anaconda3\\envs\\pytorch311\\Lib\\site-packages\\distilabel\\pipeline\\base.py#1418\u001b\\\u001b[2m1418\u001b[0m\u001b]8;;\u001b\\\n",
       "\u001b[2;36m                    \u001b[0m          * \u001b[32m'load_data_from_dicts_0'\u001b[0m replicas: \u001b[1;36m1\u001b[0m/\u001b[1;36m1\u001b[0m                                 \u001b[2m            \u001b[0m\n",
       "\u001b[2;36m                    \u001b[0m          * \u001b[32m'text_generation_0'\u001b[0m replicas: \u001b[1;36m1\u001b[0m/\u001b[1;36m1\u001b[0m                                      \u001b[2m            \u001b[0m\n",
       "\u001b[2;36m                    \u001b[0m          * \u001b[32m'text_generation_1'\u001b[0m replicas: \u001b[1;36m1\u001b[0m/\u001b[1;36m1\u001b[0m                                      \u001b[2m            \u001b[0m\n"
      ]
     },
     "metadata": {},
     "output_type": "display_data"
    },
    {
     "data": {
      "text/html": [
       "<pre style=\"white-space:pre;overflow-x:auto;line-height:normal;font-family:Menlo,'DejaVu Sans Mono',consolas,'Courier New',monospace\"><span style=\"color: #7fbfbf; text-decoration-color: #7fbfbf\">                    </span><span style=\"color: #000080; text-decoration-color: #000080\">INFO    </span> <span style=\"font-weight: bold\">[</span><span style=\"color: #008000; text-decoration-color: #008000\">'distilabel.pipeline'</span><span style=\"font-weight: bold\">]</span> ✅ All the steps from stage <span style=\"color: #008080; text-decoration-color: #008080; font-weight: bold\">0</span> have been loaded!   <a href=\"file://c:\\Users\\xxSg\\anaconda3\\envs\\pytorch311\\Lib\\site-packages\\distilabel\\pipeline\\base.py\" target=\"_blank\"><span style=\"color: #7f7f7f; text-decoration-color: #7f7f7f\">base.py</span></a><span style=\"color: #7f7f7f; text-decoration-color: #7f7f7f\">:</span><a href=\"file://c:\\Users\\xxSg\\anaconda3\\envs\\pytorch311\\Lib\\site-packages\\distilabel\\pipeline\\base.py#1422\" target=\"_blank\"><span style=\"color: #7f7f7f; text-decoration-color: #7f7f7f\">1422</span></a>\n",
       "</pre>\n"
      ],
      "text/plain": [
       "\u001b[2;36m                   \u001b[0m\u001b[2;36m \u001b[0m\u001b[34mINFO    \u001b[0m \u001b[1m[\u001b[0m\u001b[32m'distilabel.pipeline'\u001b[0m\u001b[1m]\u001b[0m ✅ All the steps from stage \u001b[1;36m0\u001b[0m have been loaded!   \u001b]8;id=191539;file://c:\\Users\\xxSg\\anaconda3\\envs\\pytorch311\\Lib\\site-packages\\distilabel\\pipeline\\base.py\u001b\\\u001b[2mbase.py\u001b[0m\u001b]8;;\u001b\\\u001b[2m:\u001b[0m\u001b]8;id=545034;file://c:\\Users\\xxSg\\anaconda3\\envs\\pytorch311\\Lib\\site-packages\\distilabel\\pipeline\\base.py#1422\u001b\\\u001b[2m1422\u001b[0m\u001b]8;;\u001b\\\n"
      ]
     },
     "metadata": {},
     "output_type": "display_data"
    },
    {
     "data": {
      "text/html": [
       "<pre style=\"white-space:pre;overflow-x:auto;line-height:normal;font-family:Menlo,'DejaVu Sans Mono',consolas,'Courier New',monospace\"><span style=\"color: #7fbfbf; text-decoration-color: #7fbfbf\">[01/24/25 14:54:44] </span><span style=\"color: #000080; text-decoration-color: #000080\">INFO    </span> <span style=\"font-weight: bold\">[</span><span style=\"color: #008000; text-decoration-color: #008000\">'distilabel.step.load_data_from_dicts_0'</span><span style=\"font-weight: bold\">]</span> 🚰 Starting yielding    <a href=\"file://c:\\Users\\xxSg\\anaconda3\\envs\\pytorch311\\Lib\\site-packages\\distilabel\\pipeline\\step_wrapper.py\" target=\"_blank\"><span style=\"color: #7f7f7f; text-decoration-color: #7f7f7f\">step_wrapper.py</span></a><span style=\"color: #7f7f7f; text-decoration-color: #7f7f7f\">:</span><a href=\"file://c:\\Users\\xxSg\\anaconda3\\envs\\pytorch311\\Lib\\site-packages\\distilabel\\pipeline\\step_wrapper.py#179\" target=\"_blank\"><span style=\"color: #7f7f7f; text-decoration-color: #7f7f7f\">179</span></a>\n",
       "<span style=\"color: #7fbfbf; text-decoration-color: #7fbfbf\">                    </span>         batches from generator step <span style=\"color: #008000; text-decoration-color: #008000\">'load_data_from_dicts_0'</span>. Offset: <span style=\"color: #008080; text-decoration-color: #008080; font-weight: bold\">0</span>    <span style=\"color: #7f7f7f; text-decoration-color: #7f7f7f\">                   </span>\n",
       "</pre>\n"
      ],
      "text/plain": [
       "\u001b[2;36m[01/24/25 14:54:44]\u001b[0m\u001b[2;36m \u001b[0m\u001b[34mINFO    \u001b[0m \u001b[1m[\u001b[0m\u001b[32m'distilabel.step.load_data_from_dicts_0'\u001b[0m\u001b[1m]\u001b[0m 🚰 Starting yielding    \u001b]8;id=620778;file://c:\\Users\\xxSg\\anaconda3\\envs\\pytorch311\\Lib\\site-packages\\distilabel\\pipeline\\step_wrapper.py\u001b\\\u001b[2mstep_wrapper.py\u001b[0m\u001b]8;;\u001b\\\u001b[2m:\u001b[0m\u001b]8;id=606126;file://c:\\Users\\xxSg\\anaconda3\\envs\\pytorch311\\Lib\\site-packages\\distilabel\\pipeline\\step_wrapper.py#179\u001b\\\u001b[2m179\u001b[0m\u001b]8;;\u001b\\\n",
       "\u001b[2;36m                    \u001b[0m         batches from generator step \u001b[32m'load_data_from_dicts_0'\u001b[0m. Offset: \u001b[1;36m0\u001b[0m    \u001b[2m                   \u001b[0m\n"
      ]
     },
     "metadata": {},
     "output_type": "display_data"
    },
    {
     "data": {
      "text/html": [
       "<pre style=\"white-space:pre;overflow-x:auto;line-height:normal;font-family:Menlo,'DejaVu Sans Mono',consolas,'Courier New',monospace\"><span style=\"color: #7fbfbf; text-decoration-color: #7fbfbf\">                    </span><span style=\"color: #000080; text-decoration-color: #000080\">INFO    </span> <span style=\"font-weight: bold\">[</span><span style=\"color: #008000; text-decoration-color: #008000\">'distilabel.step.load_data_from_dicts_0'</span><span style=\"font-weight: bold\">]</span> 📨 Step                 <a href=\"file://c:\\Users\\xxSg\\anaconda3\\envs\\pytorch311\\Lib\\site-packages\\distilabel\\pipeline\\step_wrapper.py\" target=\"_blank\"><span style=\"color: #7f7f7f; text-decoration-color: #7f7f7f\">step_wrapper.py</span></a><span style=\"color: #7f7f7f; text-decoration-color: #7f7f7f\">:</span><a href=\"file://c:\\Users\\xxSg\\anaconda3\\envs\\pytorch311\\Lib\\site-packages\\distilabel\\pipeline\\step_wrapper.py#289\" target=\"_blank\"><span style=\"color: #7f7f7f; text-decoration-color: #7f7f7f\">289</span></a>\n",
       "<span style=\"color: #7fbfbf; text-decoration-color: #7fbfbf\">                    </span>         <span style=\"color: #008000; text-decoration-color: #008000\">'load_data_from_dicts_0'</span> sending batch <span style=\"color: #008080; text-decoration-color: #008080; font-weight: bold\">0</span> to output queue           <span style=\"color: #7f7f7f; text-decoration-color: #7f7f7f\">                   </span>\n",
       "</pre>\n"
      ],
      "text/plain": [
       "\u001b[2;36m                   \u001b[0m\u001b[2;36m \u001b[0m\u001b[34mINFO    \u001b[0m \u001b[1m[\u001b[0m\u001b[32m'distilabel.step.load_data_from_dicts_0'\u001b[0m\u001b[1m]\u001b[0m 📨 Step                 \u001b]8;id=522686;file://c:\\Users\\xxSg\\anaconda3\\envs\\pytorch311\\Lib\\site-packages\\distilabel\\pipeline\\step_wrapper.py\u001b\\\u001b[2mstep_wrapper.py\u001b[0m\u001b]8;;\u001b\\\u001b[2m:\u001b[0m\u001b]8;id=678028;file://c:\\Users\\xxSg\\anaconda3\\envs\\pytorch311\\Lib\\site-packages\\distilabel\\pipeline\\step_wrapper.py#289\u001b\\\u001b[2m289\u001b[0m\u001b]8;;\u001b\\\n",
       "\u001b[2;36m                    \u001b[0m         \u001b[32m'load_data_from_dicts_0'\u001b[0m sending batch \u001b[1;36m0\u001b[0m to output queue           \u001b[2m                   \u001b[0m\n"
      ]
     },
     "metadata": {},
     "output_type": "display_data"
    },
    {
     "data": {
      "text/html": [
       "<pre style=\"white-space:pre;overflow-x:auto;line-height:normal;font-family:Menlo,'DejaVu Sans Mono',consolas,'Courier New',monospace\"><span style=\"color: #7fbfbf; text-decoration-color: #7fbfbf\">                    </span><span style=\"color: #000080; text-decoration-color: #000080\">INFO    </span> <span style=\"font-weight: bold\">[</span><span style=\"color: #008000; text-decoration-color: #008000\">'distilabel.step.load_data_from_dicts_0'</span><span style=\"font-weight: bold\">]</span> 🏁 Finished running     <a href=\"file://c:\\Users\\xxSg\\anaconda3\\envs\\pytorch311\\Lib\\site-packages\\distilabel\\pipeline\\step_wrapper.py\" target=\"_blank\"><span style=\"color: #7f7f7f; text-decoration-color: #7f7f7f\">step_wrapper.py</span></a><span style=\"color: #7f7f7f; text-decoration-color: #7f7f7f\">:</span><a href=\"file://c:\\Users\\xxSg\\anaconda3\\envs\\pytorch311\\Lib\\site-packages\\distilabel\\pipeline\\step_wrapper.py#129\" target=\"_blank\"><span style=\"color: #7f7f7f; text-decoration-color: #7f7f7f\">129</span></a>\n",
       "<span style=\"color: #7fbfbf; text-decoration-color: #7fbfbf\">                    </span>         step <span style=\"color: #008000; text-decoration-color: #008000\">'load_data_from_dicts_0'</span> <span style=\"font-weight: bold\">(</span>replica ID: <span style=\"color: #008080; text-decoration-color: #008080; font-weight: bold\">0</span><span style=\"font-weight: bold\">)</span>                      <span style=\"color: #7f7f7f; text-decoration-color: #7f7f7f\">                   </span>\n",
       "</pre>\n"
      ],
      "text/plain": [
       "\u001b[2;36m                   \u001b[0m\u001b[2;36m \u001b[0m\u001b[34mINFO    \u001b[0m \u001b[1m[\u001b[0m\u001b[32m'distilabel.step.load_data_from_dicts_0'\u001b[0m\u001b[1m]\u001b[0m 🏁 Finished running     \u001b]8;id=426835;file://c:\\Users\\xxSg\\anaconda3\\envs\\pytorch311\\Lib\\site-packages\\distilabel\\pipeline\\step_wrapper.py\u001b\\\u001b[2mstep_wrapper.py\u001b[0m\u001b]8;;\u001b\\\u001b[2m:\u001b[0m\u001b]8;id=51731;file://c:\\Users\\xxSg\\anaconda3\\envs\\pytorch311\\Lib\\site-packages\\distilabel\\pipeline\\step_wrapper.py#129\u001b\\\u001b[2m129\u001b[0m\u001b]8;;\u001b\\\n",
       "\u001b[2;36m                    \u001b[0m         step \u001b[32m'load_data_from_dicts_0'\u001b[0m \u001b[1m(\u001b[0mreplica ID: \u001b[1;36m0\u001b[0m\u001b[1m)\u001b[0m                      \u001b[2m                   \u001b[0m\n"
      ]
     },
     "metadata": {},
     "output_type": "display_data"
    },
    {
     "data": {
      "text/html": [
       "<pre style=\"white-space:pre;overflow-x:auto;line-height:normal;font-family:Menlo,'DejaVu Sans Mono',consolas,'Courier New',monospace\"><span style=\"color: #7fbfbf; text-decoration-color: #7fbfbf\">                    </span><span style=\"color: #000080; text-decoration-color: #000080\">INFO    </span> <span style=\"font-weight: bold\">[</span><span style=\"color: #008000; text-decoration-color: #008000\">'distilabel.step.text_generation_0'</span><span style=\"font-weight: bold\">]</span> 📦 Processing batch <span style=\"color: #008080; text-decoration-color: #008080; font-weight: bold\">0</span> in     <a href=\"file://c:\\Users\\xxSg\\anaconda3\\envs\\pytorch311\\Lib\\site-packages\\distilabel\\pipeline\\step_wrapper.py\" target=\"_blank\"><span style=\"color: #7f7f7f; text-decoration-color: #7f7f7f\">step_wrapper.py</span></a><span style=\"color: #7f7f7f; text-decoration-color: #7f7f7f\">:</span><a href=\"file://c:\\Users\\xxSg\\anaconda3\\envs\\pytorch311\\Lib\\site-packages\\distilabel\\pipeline\\step_wrapper.py#229\" target=\"_blank\"><span style=\"color: #7f7f7f; text-decoration-color: #7f7f7f\">229</span></a>\n",
       "<span style=\"color: #7fbfbf; text-decoration-color: #7fbfbf\">                    </span>         <span style=\"color: #008000; text-decoration-color: #008000\">'text_generation_0'</span> <span style=\"font-weight: bold\">(</span>replica ID: <span style=\"color: #008080; text-decoration-color: #008080; font-weight: bold\">0</span><span style=\"font-weight: bold\">)</span>                                <span style=\"color: #7f7f7f; text-decoration-color: #7f7f7f\">                   </span>\n",
       "</pre>\n"
      ],
      "text/plain": [
       "\u001b[2;36m                   \u001b[0m\u001b[2;36m \u001b[0m\u001b[34mINFO    \u001b[0m \u001b[1m[\u001b[0m\u001b[32m'distilabel.step.text_generation_0'\u001b[0m\u001b[1m]\u001b[0m 📦 Processing batch \u001b[1;36m0\u001b[0m in     \u001b]8;id=604687;file://c:\\Users\\xxSg\\anaconda3\\envs\\pytorch311\\Lib\\site-packages\\distilabel\\pipeline\\step_wrapper.py\u001b\\\u001b[2mstep_wrapper.py\u001b[0m\u001b]8;;\u001b\\\u001b[2m:\u001b[0m\u001b]8;id=703073;file://c:\\Users\\xxSg\\anaconda3\\envs\\pytorch311\\Lib\\site-packages\\distilabel\\pipeline\\step_wrapper.py#229\u001b\\\u001b[2m229\u001b[0m\u001b]8;;\u001b\\\n",
       "\u001b[2;36m                    \u001b[0m         \u001b[32m'text_generation_0'\u001b[0m \u001b[1m(\u001b[0mreplica ID: \u001b[1;36m0\u001b[0m\u001b[1m)\u001b[0m                                \u001b[2m                   \u001b[0m\n"
      ]
     },
     "metadata": {},
     "output_type": "display_data"
    },
    {
     "data": {
      "text/html": [
       "<pre style=\"white-space:pre;overflow-x:auto;line-height:normal;font-family:Menlo,'DejaVu Sans Mono',consolas,'Courier New',monospace\"><span style=\"color: #7fbfbf; text-decoration-color: #7fbfbf\">[01/24/25 14:54:46] </span><span style=\"color: #000080; text-decoration-color: #000080\">INFO    </span> <span style=\"font-weight: bold\">[</span><span style=\"color: #008000; text-decoration-color: #008000\">'distilabel.step.text_generation_0'</span><span style=\"font-weight: bold\">]</span> 📨 Step <span style=\"color: #008000; text-decoration-color: #008000\">'text_generation_0'</span>  <a href=\"file://c:\\Users\\xxSg\\anaconda3\\envs\\pytorch311\\Lib\\site-packages\\distilabel\\pipeline\\step_wrapper.py\" target=\"_blank\"><span style=\"color: #7f7f7f; text-decoration-color: #7f7f7f\">step_wrapper.py</span></a><span style=\"color: #7f7f7f; text-decoration-color: #7f7f7f\">:</span><a href=\"file://c:\\Users\\xxSg\\anaconda3\\envs\\pytorch311\\Lib\\site-packages\\distilabel\\pipeline\\step_wrapper.py#289\" target=\"_blank\"><span style=\"color: #7f7f7f; text-decoration-color: #7f7f7f\">289</span></a>\n",
       "<span style=\"color: #7fbfbf; text-decoration-color: #7fbfbf\">                    </span>         sending batch <span style=\"color: #008080; text-decoration-color: #008080; font-weight: bold\">0</span> to output queue                                    <span style=\"color: #7f7f7f; text-decoration-color: #7f7f7f\">                   </span>\n",
       "</pre>\n"
      ],
      "text/plain": [
       "\u001b[2;36m[01/24/25 14:54:46]\u001b[0m\u001b[2;36m \u001b[0m\u001b[34mINFO    \u001b[0m \u001b[1m[\u001b[0m\u001b[32m'distilabel.step.text_generation_0'\u001b[0m\u001b[1m]\u001b[0m 📨 Step \u001b[32m'text_generation_0'\u001b[0m  \u001b]8;id=959786;file://c:\\Users\\xxSg\\anaconda3\\envs\\pytorch311\\Lib\\site-packages\\distilabel\\pipeline\\step_wrapper.py\u001b\\\u001b[2mstep_wrapper.py\u001b[0m\u001b]8;;\u001b\\\u001b[2m:\u001b[0m\u001b]8;id=906248;file://c:\\Users\\xxSg\\anaconda3\\envs\\pytorch311\\Lib\\site-packages\\distilabel\\pipeline\\step_wrapper.py#289\u001b\\\u001b[2m289\u001b[0m\u001b]8;;\u001b\\\n",
       "\u001b[2;36m                    \u001b[0m         sending batch \u001b[1;36m0\u001b[0m to output queue                                    \u001b[2m                   \u001b[0m\n"
      ]
     },
     "metadata": {},
     "output_type": "display_data"
    },
    {
     "data": {
      "text/html": [
       "<pre style=\"white-space:pre;overflow-x:auto;line-height:normal;font-family:Menlo,'DejaVu Sans Mono',consolas,'Courier New',monospace\"><span style=\"color: #7fbfbf; text-decoration-color: #7fbfbf\">                    </span><span style=\"color: #000080; text-decoration-color: #000080\">INFO    </span> <span style=\"font-weight: bold\">[</span><span style=\"color: #008000; text-decoration-color: #008000\">'distilabel.step.text_generation_0'</span><span style=\"font-weight: bold\">]</span> 🏁 Finished running step     <a href=\"file://c:\\Users\\xxSg\\anaconda3\\envs\\pytorch311\\Lib\\site-packages\\distilabel\\pipeline\\step_wrapper.py\" target=\"_blank\"><span style=\"color: #7f7f7f; text-decoration-color: #7f7f7f\">step_wrapper.py</span></a><span style=\"color: #7f7f7f; text-decoration-color: #7f7f7f\">:</span><a href=\"file://c:\\Users\\xxSg\\anaconda3\\envs\\pytorch311\\Lib\\site-packages\\distilabel\\pipeline\\step_wrapper.py#129\" target=\"_blank\"><span style=\"color: #7f7f7f; text-decoration-color: #7f7f7f\">129</span></a>\n",
       "<span style=\"color: #7fbfbf; text-decoration-color: #7fbfbf\">                    </span>         <span style=\"color: #008000; text-decoration-color: #008000\">'text_generation_0'</span> <span style=\"font-weight: bold\">(</span>replica ID: <span style=\"color: #008080; text-decoration-color: #008080; font-weight: bold\">0</span><span style=\"font-weight: bold\">)</span>                                <span style=\"color: #7f7f7f; text-decoration-color: #7f7f7f\">                   </span>\n",
       "</pre>\n"
      ],
      "text/plain": [
       "\u001b[2;36m                   \u001b[0m\u001b[2;36m \u001b[0m\u001b[34mINFO    \u001b[0m \u001b[1m[\u001b[0m\u001b[32m'distilabel.step.text_generation_0'\u001b[0m\u001b[1m]\u001b[0m 🏁 Finished running step     \u001b]8;id=221151;file://c:\\Users\\xxSg\\anaconda3\\envs\\pytorch311\\Lib\\site-packages\\distilabel\\pipeline\\step_wrapper.py\u001b\\\u001b[2mstep_wrapper.py\u001b[0m\u001b]8;;\u001b\\\u001b[2m:\u001b[0m\u001b]8;id=330926;file://c:\\Users\\xxSg\\anaconda3\\envs\\pytorch311\\Lib\\site-packages\\distilabel\\pipeline\\step_wrapper.py#129\u001b\\\u001b[2m129\u001b[0m\u001b]8;;\u001b\\\n",
       "\u001b[2;36m                    \u001b[0m         \u001b[32m'text_generation_0'\u001b[0m \u001b[1m(\u001b[0mreplica ID: \u001b[1;36m0\u001b[0m\u001b[1m)\u001b[0m                                \u001b[2m                   \u001b[0m\n"
      ]
     },
     "metadata": {},
     "output_type": "display_data"
    },
    {
     "data": {
      "text/html": [
       "<pre style=\"white-space:pre;overflow-x:auto;line-height:normal;font-family:Menlo,'DejaVu Sans Mono',consolas,'Courier New',monospace\"><span style=\"color: #7fbfbf; text-decoration-color: #7fbfbf\">                    </span><span style=\"color: #000080; text-decoration-color: #000080\">INFO    </span> <span style=\"font-weight: bold\">[</span><span style=\"color: #008000; text-decoration-color: #008000\">'distilabel.step.text_generation_1'</span><span style=\"font-weight: bold\">]</span> 📦 Processing batch <span style=\"color: #008080; text-decoration-color: #008080; font-weight: bold\">0</span> in     <a href=\"file://c:\\Users\\xxSg\\anaconda3\\envs\\pytorch311\\Lib\\site-packages\\distilabel\\pipeline\\step_wrapper.py\" target=\"_blank\"><span style=\"color: #7f7f7f; text-decoration-color: #7f7f7f\">step_wrapper.py</span></a><span style=\"color: #7f7f7f; text-decoration-color: #7f7f7f\">:</span><a href=\"file://c:\\Users\\xxSg\\anaconda3\\envs\\pytorch311\\Lib\\site-packages\\distilabel\\pipeline\\step_wrapper.py#229\" target=\"_blank\"><span style=\"color: #7f7f7f; text-decoration-color: #7f7f7f\">229</span></a>\n",
       "<span style=\"color: #7fbfbf; text-decoration-color: #7fbfbf\">                    </span>         <span style=\"color: #008000; text-decoration-color: #008000\">'text_generation_1'</span> <span style=\"font-weight: bold\">(</span>replica ID: <span style=\"color: #008080; text-decoration-color: #008080; font-weight: bold\">0</span><span style=\"font-weight: bold\">)</span>                                <span style=\"color: #7f7f7f; text-decoration-color: #7f7f7f\">                   </span>\n",
       "</pre>\n"
      ],
      "text/plain": [
       "\u001b[2;36m                   \u001b[0m\u001b[2;36m \u001b[0m\u001b[34mINFO    \u001b[0m \u001b[1m[\u001b[0m\u001b[32m'distilabel.step.text_generation_1'\u001b[0m\u001b[1m]\u001b[0m 📦 Processing batch \u001b[1;36m0\u001b[0m in     \u001b]8;id=405253;file://c:\\Users\\xxSg\\anaconda3\\envs\\pytorch311\\Lib\\site-packages\\distilabel\\pipeline\\step_wrapper.py\u001b\\\u001b[2mstep_wrapper.py\u001b[0m\u001b]8;;\u001b\\\u001b[2m:\u001b[0m\u001b]8;id=814252;file://c:\\Users\\xxSg\\anaconda3\\envs\\pytorch311\\Lib\\site-packages\\distilabel\\pipeline\\step_wrapper.py#229\u001b\\\u001b[2m229\u001b[0m\u001b]8;;\u001b\\\n",
       "\u001b[2;36m                    \u001b[0m         \u001b[32m'text_generation_1'\u001b[0m \u001b[1m(\u001b[0mreplica ID: \u001b[1;36m0\u001b[0m\u001b[1m)\u001b[0m                                \u001b[2m                   \u001b[0m\n"
      ]
     },
     "metadata": {},
     "output_type": "display_data"
    },
    {
     "data": {
      "text/html": [
       "<pre style=\"white-space:pre;overflow-x:auto;line-height:normal;font-family:Menlo,'DejaVu Sans Mono',consolas,'Courier New',monospace\"><span style=\"color: #7fbfbf; text-decoration-color: #7fbfbf\">[01/24/25 14:54:49] </span><span style=\"color: #000080; text-decoration-color: #000080\">INFO    </span> <span style=\"font-weight: bold\">[</span><span style=\"color: #008000; text-decoration-color: #008000\">'distilabel.step.text_generation_1'</span><span style=\"font-weight: bold\">]</span> 📨 Step <span style=\"color: #008000; text-decoration-color: #008000\">'text_generation_1'</span>  <a href=\"file://c:\\Users\\xxSg\\anaconda3\\envs\\pytorch311\\Lib\\site-packages\\distilabel\\pipeline\\step_wrapper.py\" target=\"_blank\"><span style=\"color: #7f7f7f; text-decoration-color: #7f7f7f\">step_wrapper.py</span></a><span style=\"color: #7f7f7f; text-decoration-color: #7f7f7f\">:</span><a href=\"file://c:\\Users\\xxSg\\anaconda3\\envs\\pytorch311\\Lib\\site-packages\\distilabel\\pipeline\\step_wrapper.py#289\" target=\"_blank\"><span style=\"color: #7f7f7f; text-decoration-color: #7f7f7f\">289</span></a>\n",
       "<span style=\"color: #7fbfbf; text-decoration-color: #7fbfbf\">                    </span>         sending batch <span style=\"color: #008080; text-decoration-color: #008080; font-weight: bold\">0</span> to output queue                                    <span style=\"color: #7f7f7f; text-decoration-color: #7f7f7f\">                   </span>\n",
       "</pre>\n"
      ],
      "text/plain": [
       "\u001b[2;36m[01/24/25 14:54:49]\u001b[0m\u001b[2;36m \u001b[0m\u001b[34mINFO    \u001b[0m \u001b[1m[\u001b[0m\u001b[32m'distilabel.step.text_generation_1'\u001b[0m\u001b[1m]\u001b[0m 📨 Step \u001b[32m'text_generation_1'\u001b[0m  \u001b]8;id=551419;file://c:\\Users\\xxSg\\anaconda3\\envs\\pytorch311\\Lib\\site-packages\\distilabel\\pipeline\\step_wrapper.py\u001b\\\u001b[2mstep_wrapper.py\u001b[0m\u001b]8;;\u001b\\\u001b[2m:\u001b[0m\u001b]8;id=709257;file://c:\\Users\\xxSg\\anaconda3\\envs\\pytorch311\\Lib\\site-packages\\distilabel\\pipeline\\step_wrapper.py#289\u001b\\\u001b[2m289\u001b[0m\u001b]8;;\u001b\\\n",
       "\u001b[2;36m                    \u001b[0m         sending batch \u001b[1;36m0\u001b[0m to output queue                                    \u001b[2m                   \u001b[0m\n"
      ]
     },
     "metadata": {},
     "output_type": "display_data"
    },
    {
     "data": {
      "text/html": [
       "<pre style=\"white-space:pre;overflow-x:auto;line-height:normal;font-family:Menlo,'DejaVu Sans Mono',consolas,'Courier New',monospace\"><span style=\"color: #7fbfbf; text-decoration-color: #7fbfbf\">                    </span><span style=\"color: #000080; text-decoration-color: #000080\">INFO    </span> <span style=\"font-weight: bold\">[</span><span style=\"color: #008000; text-decoration-color: #008000\">'distilabel.step.text_generation_1'</span><span style=\"font-weight: bold\">]</span> 🏁 Finished running step     <a href=\"file://c:\\Users\\xxSg\\anaconda3\\envs\\pytorch311\\Lib\\site-packages\\distilabel\\pipeline\\step_wrapper.py\" target=\"_blank\"><span style=\"color: #7f7f7f; text-decoration-color: #7f7f7f\">step_wrapper.py</span></a><span style=\"color: #7f7f7f; text-decoration-color: #7f7f7f\">:</span><a href=\"file://c:\\Users\\xxSg\\anaconda3\\envs\\pytorch311\\Lib\\site-packages\\distilabel\\pipeline\\step_wrapper.py#129\" target=\"_blank\"><span style=\"color: #7f7f7f; text-decoration-color: #7f7f7f\">129</span></a>\n",
       "<span style=\"color: #7fbfbf; text-decoration-color: #7fbfbf\">                    </span>         <span style=\"color: #008000; text-decoration-color: #008000\">'text_generation_1'</span> <span style=\"font-weight: bold\">(</span>replica ID: <span style=\"color: #008080; text-decoration-color: #008080; font-weight: bold\">0</span><span style=\"font-weight: bold\">)</span>                                <span style=\"color: #7f7f7f; text-decoration-color: #7f7f7f\">                   </span>\n",
       "</pre>\n"
      ],
      "text/plain": [
       "\u001b[2;36m                   \u001b[0m\u001b[2;36m \u001b[0m\u001b[34mINFO    \u001b[0m \u001b[1m[\u001b[0m\u001b[32m'distilabel.step.text_generation_1'\u001b[0m\u001b[1m]\u001b[0m 🏁 Finished running step     \u001b]8;id=233182;file://c:\\Users\\xxSg\\anaconda3\\envs\\pytorch311\\Lib\\site-packages\\distilabel\\pipeline\\step_wrapper.py\u001b\\\u001b[2mstep_wrapper.py\u001b[0m\u001b]8;;\u001b\\\u001b[2m:\u001b[0m\u001b]8;id=901732;file://c:\\Users\\xxSg\\anaconda3\\envs\\pytorch311\\Lib\\site-packages\\distilabel\\pipeline\\step_wrapper.py#129\u001b\\\u001b[2m129\u001b[0m\u001b]8;;\u001b\\\n",
       "\u001b[2;36m                    \u001b[0m         \u001b[32m'text_generation_1'\u001b[0m \u001b[1m(\u001b[0mreplica ID: \u001b[1;36m0\u001b[0m\u001b[1m)\u001b[0m                                \u001b[2m                   \u001b[0m\n"
      ]
     },
     "metadata": {},
     "output_type": "display_data"
    },
    {
     "data": {
      "application/vnd.jupyter.widget-view+json": {
       "model_id": "892262e3e5f649c7a7a91c66a09ff6ac",
       "version_major": 2,
       "version_minor": 0
      },
      "text/plain": [
       "Generating train split: 0 examples [00:00, ? examples/s]"
      ]
     },
     "metadata": {},
     "output_type": "display_data"
    },
    {
     "data": {
      "application/vnd.jupyter.widget-view+json": {
       "model_id": "92848f7844fc4dbf99a40fdb03d1c62c",
       "version_major": 2,
       "version_minor": 0
      },
      "text/plain": [
       "Uploading the dataset shards:   0%|          | 0/1 [00:00<?, ?it/s]"
      ]
     },
     "metadata": {},
     "output_type": "display_data"
    },
    {
     "data": {
      "application/vnd.jupyter.widget-view+json": {
       "model_id": "e44a82b97768470e931fb34a74860bf8",
       "version_major": 2,
       "version_minor": 0
      },
      "text/plain": [
       "Creating parquet from Arrow format:   0%|          | 0/1 [00:00<?, ?ba/s]"
      ]
     },
     "metadata": {},
     "output_type": "display_data"
    },
    {
     "data": {
      "application/vnd.jupyter.widget-view+json": {
       "model_id": "6821fdaa343d4c2d80baa7eb2c82c3b2",
       "version_major": 2,
       "version_minor": 0
      },
      "text/plain": [
       "README.md:   0%|          | 0.00/300 [00:00<?, ?B/s]"
      ]
     },
     "metadata": {},
     "output_type": "display_data"
    },
    {
     "data": {
      "application/vnd.jupyter.widget-view+json": {
       "model_id": "ee5a7b46fa5949ca8470b0f59afd78c8",
       "version_major": 2,
       "version_minor": 0
      },
      "text/plain": [
       "README.md:   0%|          | 0.00/301 [00:00<?, ?B/s]"
      ]
     },
     "metadata": {},
     "output_type": "display_data"
    }
   ],
   "source": [
    "from distilabel.llms import TransformersLLM\n",
    "from distilabel.pipeline import Pipeline\n",
    "from distilabel.steps import LoadDataFromDicts\n",
    "from distilabel.steps.tasks import TextGeneration\n",
    "\n",
    "with Pipeline() as pipeline:\n",
    "    data = LoadDataFromDicts(data=[{\"instruction\": \"Generate a short question about the Hugging Face Smol-Course.\"}])\n",
    "    llm = TransformersLLM(model=\"HuggingFaceTB/SmolLM2-1.7B-Instruct\")\n",
    "    gen_a = TextGeneration(llm=llm, output_mappings={\"generation\": \"instruction\"})\n",
    "    gen_b = TextGeneration(llm=llm, output_mappings={\"generation\": \"response\"})\n",
    "    data >> gen_a >> gen_b\n",
    "\n",
    "if __name__ == \"__main__\":\n",
    "    distiset = pipeline.run(use_cache=False)\n",
    "    distiset.push_to_hub(\"huggingface-smol-course-instruction-tuning-dataset\")"
   ]
  },
  {
   "cell_type": "markdown",
   "metadata": {},
   "source": [
    "## 🌯 That's a wrap\n",
    "\n",
    "You've now seen how to generate a dataset for instruction tuning. You could use this to:\n",
    "\n",
    "- Generate a dataset for instruction tuning.\n",
    "- Create evaluation datasets for instruction tuning.\n",
    "\n",
    "Next\n",
    "\n",
    "🧑‍🏫 Learn - About [generating preference datasets](./preference_datasets.md)\n",
    "🏋️‍♂️ Fine-tune a model for instruction tuning with a synthetic dataset based on the [instruction tuning chapter](../../1_instruction_tuning/README.md)\n"
   ]
  }
 ],
 "metadata": {
  "kernelspec": {
   "display_name": "pytorch311",
   "language": "python",
   "name": "python3"
  },
  "language_info": {
   "codemirror_mode": {
    "name": "ipython",
    "version": 3
   },
   "file_extension": ".py",
   "mimetype": "text/x-python",
   "name": "python",
   "nbconvert_exporter": "python",
   "pygments_lexer": "ipython3",
   "version": "3.11.8"
  }
 },
 "nbformat": 4,
 "nbformat_minor": 2
}
